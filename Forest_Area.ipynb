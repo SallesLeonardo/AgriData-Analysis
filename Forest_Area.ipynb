{
 "cells": [
  {
   "cell_type": "code",
   "execution_count": null,
   "id": "6a6f8510",
   "metadata": {},
   "outputs": [],
   "source": [
    "import pandas as pd\n",
    "import matplotlib.pyplot as plt\n",
    "import copy\n",
    "import numpy as np"
   ]
  },
  {
   "cell_type": "code",
   "execution_count": null,
   "id": "f04fe495",
   "metadata": {},
   "outputs": [],
   "source": [
    "\"\"\"Acessing the file\"\"\"\n",
    "raw_data = pd.read_csv('c:/users/acer/edxenv/Week-5-Visualization/wdi-csv-zip-57-mb-/Indicators.csv')\n",
    "raw_data"
   ]
  },
  {
   "cell_type": "code",
   "execution_count": null,
   "id": "1804c02a",
   "metadata": {},
   "outputs": [],
   "source": [
    "\"\"\"Selecting only the years 1989-2013\"\"\"\n",
    "min_year = raw_data['Year'] > 1989\n",
    "max_year = raw_data['Year'] <= 2013 \n",
    "\n",
    "period_of_time = raw_data[min_year & max_year]\n",
    "period_of_time"
   ]
  },
  {
   "cell_type": "code",
   "execution_count": null,
   "id": "107ad2e1",
   "metadata": {},
   "outputs": [],
   "source": [
    "\"\"\"Selecting specific countries (Argentina, Brazil, France, Germany, USA)\"\"\"\n",
    "\n",
    "selected_codes =  ['ARG', 'BRA', 'FRA', 'DEU', 'USA']\n",
    "\n",
    "selected_countries = pd.DataFrame()\n",
    "\n",
    "for code in selected_codes:\n",
    "    each_country = pd.DataFrame(period_of_time[period_of_time['CountryCode'].str.contains(code)])\n",
    "    selected_countries = pd.concat([selected_countries, each_country])"
   ]
  },
  {
   "cell_type": "code",
   "execution_count": null,
   "id": "5243e38b",
   "metadata": {},
   "outputs": [],
   "source": [
    "selected_countries"
   ]
  },
  {
   "cell_type": "code",
   "execution_count": null,
   "id": "aa09daff",
   "metadata": {},
   "outputs": [],
   "source": [
    "\"\"\"Selecting Indicators: Cereal Production\"\"\"\n",
    "cereal_production = selected_countries[selected_countries['IndicatorName'].str.contains('Cereal production')]\n",
    "\n",
    "cereal_production"
   ]
  },
  {
   "cell_type": "code",
   "execution_count": null,
   "id": "b393d255",
   "metadata": {},
   "outputs": [],
   "source": [
    "cereal_table = pd.DataFrame(index=cereal_production['Year'], columns=cereal_production['CountryCode'].unique())"
   ]
  },
  {
   "cell_type": "code",
   "execution_count": null,
   "id": "328e2372",
   "metadata": {},
   "outputs": [],
   "source": [
    "\"\"\"Filtering only relevant data and assigning it to new table\"\"\"\n",
    "for code in selected_codes:\n",
    "    for year in cereal_production['Year']:\n",
    "        cereal_table[code][year] = cereal_production['Value'][cereal_production['CountryCode']==code][cereal_production['Year']==year]"
   ]
  },
  {
   "cell_type": "code",
   "execution_count": null,
   "id": "48cf12cb",
   "metadata": {},
   "outputs": [],
   "source": [
    "cereal_table = cereal_table.drop_duplicates()"
   ]
  },
  {
   "cell_type": "code",
   "execution_count": 158,
   "id": "22be79a6",
   "metadata": {},
   "outputs": [
    {
     "data": {
      "text/html": [
       "<div>\n",
       "<style scoped>\n",
       "    .dataframe tbody tr th:only-of-type {\n",
       "        vertical-align: middle;\n",
       "    }\n",
       "\n",
       "    .dataframe tbody tr th {\n",
       "        vertical-align: top;\n",
       "    }\n",
       "\n",
       "    .dataframe thead th {\n",
       "        text-align: right;\n",
       "    }\n",
       "</style>\n",
       "<table border=\"1\" class=\"dataframe\">\n",
       "  <thead>\n",
       "    <tr style=\"text-align: right;\">\n",
       "      <th></th>\n",
       "      <th>ARG</th>\n",
       "      <th>BRA</th>\n",
       "      <th>FRA</th>\n",
       "      <th>DEU</th>\n",
       "      <th>USA</th>\n",
       "    </tr>\n",
       "    <tr>\n",
       "      <th>Year</th>\n",
       "      <th></th>\n",
       "      <th></th>\n",
       "      <th></th>\n",
       "      <th></th>\n",
       "      <th></th>\n",
       "    </tr>\n",
       "  </thead>\n",
       "  <tbody>\n",
       "    <tr>\n",
       "      <th>1990</th>\n",
       "      <td>20123600.0</td>\n",
       "      <td>32490390.0</td>\n",
       "      <td>55110621.0</td>\n",
       "      <td>37579589.0</td>\n",
       "      <td>312410604.0</td>\n",
       "    </tr>\n",
       "    <tr>\n",
       "      <th>1991</th>\n",
       "      <td>21705860.0</td>\n",
       "      <td>36682063.0</td>\n",
       "      <td>60334951.0</td>\n",
       "      <td>39267852.0</td>\n",
       "      <td>279994078.0</td>\n",
       "    </tr>\n",
       "    <tr>\n",
       "      <th>1992</th>\n",
       "      <td>25597620.0</td>\n",
       "      <td>44057997.0</td>\n",
       "      <td>60638983.0</td>\n",
       "      <td>34758462.0</td>\n",
       "      <td>352996619.0</td>\n",
       "    </tr>\n",
       "    <tr>\n",
       "      <th>1993</th>\n",
       "      <td>25174721.0</td>\n",
       "      <td>43073464.0</td>\n",
       "      <td>55625587.0</td>\n",
       "      <td>35549250.0</td>\n",
       "      <td>259026444.0</td>\n",
       "    </tr>\n",
       "    <tr>\n",
       "      <th>1994</th>\n",
       "      <td>25370627.0</td>\n",
       "      <td>45852774.0</td>\n",
       "      <td>53406876.0</td>\n",
       "      <td>36336493.0</td>\n",
       "      <td>355902279.0</td>\n",
       "    </tr>\n",
       "    <tr>\n",
       "      <th>1995</th>\n",
       "      <td>24306533.0</td>\n",
       "      <td>49641824.0</td>\n",
       "      <td>53545493.0</td>\n",
       "      <td>39863175.0</td>\n",
       "      <td>277599632.0</td>\n",
       "    </tr>\n",
       "    <tr>\n",
       "      <th>1996</th>\n",
       "      <td>30699509.0</td>\n",
       "      <td>44957172.0</td>\n",
       "      <td>62599234.0</td>\n",
       "      <td>42135584.0</td>\n",
       "      <td>335783480.0</td>\n",
       "    </tr>\n",
       "    <tr>\n",
       "      <th>1997</th>\n",
       "      <td>35906610.0</td>\n",
       "      <td>44871284.0</td>\n",
       "      <td>63431583.0</td>\n",
       "      <td>45485770.0</td>\n",
       "      <td>336576644.0</td>\n",
       "    </tr>\n",
       "    <tr>\n",
       "      <th>1998</th>\n",
       "      <td>37808447.0</td>\n",
       "      <td>40734185.0</td>\n",
       "      <td>68663514.0</td>\n",
       "      <td>44574852.0</td>\n",
       "      <td>349447669.0</td>\n",
       "    </tr>\n",
       "    <tr>\n",
       "      <th>1999</th>\n",
       "      <td>35035706.0</td>\n",
       "      <td>47428952.0</td>\n",
       "      <td>64341768.0</td>\n",
       "      <td>44460593.0</td>\n",
       "      <td>335552820.0</td>\n",
       "    </tr>\n",
       "    <tr>\n",
       "      <th>2000</th>\n",
       "      <td>38754920.0</td>\n",
       "      <td>45893360.0</td>\n",
       "      <td>65698424.0</td>\n",
       "      <td>45271234.0</td>\n",
       "      <td>342628297.0</td>\n",
       "    </tr>\n",
       "    <tr>\n",
       "      <th>2001</th>\n",
       "      <td>35913975.0</td>\n",
       "      <td>57124610.0</td>\n",
       "      <td>60236638.0</td>\n",
       "      <td>49686362.0</td>\n",
       "      <td>324983273.0</td>\n",
       "    </tr>\n",
       "    <tr>\n",
       "      <th>2002</th>\n",
       "      <td>31843859.0</td>\n",
       "      <td>50878876.0</td>\n",
       "      <td>69656580.0</td>\n",
       "      <td>43391328.0</td>\n",
       "      <td>297128935.0</td>\n",
       "    </tr>\n",
       "    <tr>\n",
       "      <th>2003</th>\n",
       "      <td>34586304.0</td>\n",
       "      <td>67468220.0</td>\n",
       "      <td>54939864.0</td>\n",
       "      <td>39320467.0</td>\n",
       "      <td>348240995.0</td>\n",
       "    </tr>\n",
       "    <tr>\n",
       "      <th>2004</th>\n",
       "      <td>35881433.0</td>\n",
       "      <td>63963630.0</td>\n",
       "      <td>70516631.0</td>\n",
       "      <td>51110273.0</td>\n",
       "      <td>389025848.0</td>\n",
       "    </tr>\n",
       "    <tr>\n",
       "      <th>2005</th>\n",
       "      <td>38162233.0</td>\n",
       "      <td>55668625.0</td>\n",
       "      <td>64103739.0</td>\n",
       "      <td>45980200.0</td>\n",
       "      <td>366440101.0</td>\n",
       "    </tr>\n",
       "    <tr>\n",
       "      <th>2006</th>\n",
       "      <td>34204170.0</td>\n",
       "      <td>59148968.0</td>\n",
       "      <td>61584077.0</td>\n",
       "      <td>43474800.0</td>\n",
       "      <td>338332827.0</td>\n",
       "    </tr>\n",
       "    <tr>\n",
       "      <th>2007</th>\n",
       "      <td>44179957.0</td>\n",
       "      <td>69441579.0</td>\n",
       "      <td>59328410.0</td>\n",
       "      <td>40632149.0</td>\n",
       "      <td>415125353.0</td>\n",
       "    </tr>\n",
       "    <tr>\n",
       "      <th>2008</th>\n",
       "      <td>36754333.0</td>\n",
       "      <td>79751786.0</td>\n",
       "      <td>70100905.0</td>\n",
       "      <td>50104859.0</td>\n",
       "      <td>403541004.0</td>\n",
       "    </tr>\n",
       "    <tr>\n",
       "      <th>2009</th>\n",
       "      <td>26537747.0</td>\n",
       "      <td>70913797.0</td>\n",
       "      <td>70028326.0</td>\n",
       "      <td>49808770.0</td>\n",
       "      <td>419380398.0</td>\n",
       "    </tr>\n",
       "    <tr>\n",
       "      <th>2010</th>\n",
       "      <td>47143679.0</td>\n",
       "      <td>75161327.0</td>\n",
       "      <td>65628879.0</td>\n",
       "      <td>44314391.0</td>\n",
       "      <td>401669955.0</td>\n",
       "    </tr>\n",
       "    <tr>\n",
       "      <th>2011</th>\n",
       "      <td>49098463.0</td>\n",
       "      <td>77586276.0</td>\n",
       "      <td>63953875.1</td>\n",
       "      <td>41920400.0</td>\n",
       "      <td>386815964.0</td>\n",
       "    </tr>\n",
       "    <tr>\n",
       "      <th>2012</th>\n",
       "      <td>43389294.0</td>\n",
       "      <td>89908244.0</td>\n",
       "      <td>70981606.2</td>\n",
       "      <td>45396500.0</td>\n",
       "      <td>356932761.0</td>\n",
       "    </tr>\n",
       "    <tr>\n",
       "      <th>2013</th>\n",
       "      <td>51792609.0</td>\n",
       "      <td>100901726.0</td>\n",
       "      <td>67518281.0</td>\n",
       "      <td>47757100.0</td>\n",
       "      <td>436553678.0</td>\n",
       "    </tr>\n",
       "  </tbody>\n",
       "</table>\n",
       "</div>"
      ],
      "text/plain": [
       "             ARG          BRA         FRA         DEU          USA\n",
       "Year                                                              \n",
       "1990  20123600.0   32490390.0  55110621.0  37579589.0  312410604.0\n",
       "1991  21705860.0   36682063.0  60334951.0  39267852.0  279994078.0\n",
       "1992  25597620.0   44057997.0  60638983.0  34758462.0  352996619.0\n",
       "1993  25174721.0   43073464.0  55625587.0  35549250.0  259026444.0\n",
       "1994  25370627.0   45852774.0  53406876.0  36336493.0  355902279.0\n",
       "1995  24306533.0   49641824.0  53545493.0  39863175.0  277599632.0\n",
       "1996  30699509.0   44957172.0  62599234.0  42135584.0  335783480.0\n",
       "1997  35906610.0   44871284.0  63431583.0  45485770.0  336576644.0\n",
       "1998  37808447.0   40734185.0  68663514.0  44574852.0  349447669.0\n",
       "1999  35035706.0   47428952.0  64341768.0  44460593.0  335552820.0\n",
       "2000  38754920.0   45893360.0  65698424.0  45271234.0  342628297.0\n",
       "2001  35913975.0   57124610.0  60236638.0  49686362.0  324983273.0\n",
       "2002  31843859.0   50878876.0  69656580.0  43391328.0  297128935.0\n",
       "2003  34586304.0   67468220.0  54939864.0  39320467.0  348240995.0\n",
       "2004  35881433.0   63963630.0  70516631.0  51110273.0  389025848.0\n",
       "2005  38162233.0   55668625.0  64103739.0  45980200.0  366440101.0\n",
       "2006  34204170.0   59148968.0  61584077.0  43474800.0  338332827.0\n",
       "2007  44179957.0   69441579.0  59328410.0  40632149.0  415125353.0\n",
       "2008  36754333.0   79751786.0  70100905.0  50104859.0  403541004.0\n",
       "2009  26537747.0   70913797.0  70028326.0  49808770.0  419380398.0\n",
       "2010  47143679.0   75161327.0  65628879.0  44314391.0  401669955.0\n",
       "2011  49098463.0   77586276.0  63953875.1  41920400.0  386815964.0\n",
       "2012  43389294.0   89908244.0  70981606.2  45396500.0  356932761.0\n",
       "2013  51792609.0  100901726.0  67518281.0  47757100.0  436553678.0"
      ]
     },
     "execution_count": 158,
     "metadata": {},
     "output_type": "execute_result"
    }
   ],
   "source": [
    "cereal_table"
   ]
  },
  {
   "cell_type": "markdown",
   "id": "d02d55b9",
   "metadata": {},
   "source": [
    "# Exploring the data from the second data set"
   ]
  },
  {
   "cell_type": "markdown",
   "id": "110302ae",
   "metadata": {},
   "source": [
    "## Due to non-awareness of case sensitivity, I couldn't find 'Forest Area' indicators in the first data set. But I found it on the World Bank website, in a different format, so I had to perform some different functions in order to make them look alike."
   ]
  },
  {
   "cell_type": "code",
   "execution_count": null,
   "id": "72de34c9",
   "metadata": {},
   "outputs": [],
   "source": [
    "\"\"\"Accessing the second dataset: Forest Area \"\"\"\n",
    "raw_data2 = pd.read_csv('c:/users/acer/edxenv/Week-6-MiniProject/forest_area_ind2.csv')\n",
    "raw_data2"
   ]
  },
  {
   "cell_type": "code",
   "execution_count": null,
   "id": "f3a49e51",
   "metadata": {},
   "outputs": [],
   "source": [
    "\"\"\"Selecting only the years 1999-2013\"\"\"\n",
    "cols_to_drop = raw_data2.columns[4:22]"
   ]
  },
  {
   "cell_type": "code",
   "execution_count": null,
   "id": "72c10e79",
   "metadata": {},
   "outputs": [],
   "source": [
    "\"\"\"Dropping years out the range\"\"\"\n",
    "raw_data2 = raw_data2.drop(cols_to_drop, axis=1)\n"
   ]
  },
  {
   "cell_type": "code",
   "execution_count": null,
   "id": "c23f9bb1",
   "metadata": {},
   "outputs": [],
   "source": [
    "\"\"\"Dropping rows with null values\"\"\"\n",
    "raw_data2 = raw_data2.dropna()\n",
    "raw_data2"
   ]
  },
  {
   "cell_type": "code",
   "execution_count": null,
   "id": "48fb3118",
   "metadata": {},
   "outputs": [],
   "source": [
    "\"\"\"Selecting specific countries (Argentina, Brazil, France, Germany, USA) in the new data set\"\"\"\n",
    "\n",
    "selected_codes =  ['ARG', 'BRA', 'FRA', 'DEU', 'USA']\n",
    "\n",
    "selected_countries2 = pd.DataFrame()\n",
    "\n",
    "for code in selected_codes:\n",
    "    each_country = pd.DataFrame(raw_data2[raw_data2['Country Code'].str.contains(code)])\n",
    "    selected_countries2 = pd.concat([selected_countries2, each_country])"
   ]
  },
  {
   "cell_type": "code",
   "execution_count": null,
   "id": "2768d945",
   "metadata": {},
   "outputs": [],
   "source": [
    "selected_countries2"
   ]
  },
  {
   "cell_type": "code",
   "execution_count": null,
   "id": "78be3f65",
   "metadata": {},
   "outputs": [],
   "source": [
    "\"\"\"Transposing rows and columns, to make it more similar to the 'cereal_table'\"\"\"\n",
    "selected_countries2 = selected_countries2.T\n",
    "selected_countries2"
   ]
  },
  {
   "cell_type": "code",
   "execution_count": null,
   "id": "5243edc5",
   "metadata": {},
   "outputs": [],
   "source": [
    "\"\"\"performing some cleanning\"\"\"\n",
    "selected_countries2 = selected_countries2.drop(['Series Code', 'Country Code'])"
   ]
  },
  {
   "cell_type": "code",
   "execution_count": null,
   "id": "bc8f9056",
   "metadata": {},
   "outputs": [],
   "source": [
    "\"\"\"assigning to a new object\"\"\"\n",
    "forest_table = copy.deepcopy(selected_countries2)"
   ]
  },
  {
   "cell_type": "code",
   "execution_count": null,
   "id": "745dc81a",
   "metadata": {},
   "outputs": [],
   "source": [
    "\"\"\"more cleanning\"\"\"\n",
    "forest_table = forest_table.drop(['Series Name', 'Country Name'])"
   ]
  },
  {
   "cell_type": "code",
   "execution_count": null,
   "id": "4e2d6348",
   "metadata": {},
   "outputs": [],
   "source": [
    "\"\"\"renaming columns\"\"\"\n",
    "forest_table.set_axis(selected_codes, axis='columns', inplace=True)"
   ]
  },
  {
   "cell_type": "code",
   "execution_count": null,
   "id": "bc6572b0",
   "metadata": {},
   "outputs": [],
   "source": [
    "\"\"\"a little more cleanning\"\"\"\n",
    "forest_table = forest_table.drop(forest_table.index[-8:])"
   ]
  },
  {
   "cell_type": "code",
   "execution_count": null,
   "id": "327c4f6e",
   "metadata": {},
   "outputs": [],
   "source": [
    "\"\"\"Reindexing to match cereal and forest tables\"\"\"\n",
    "forest_table.index = cereal_table.index"
   ]
  },
  {
   "cell_type": "code",
   "execution_count": 157,
   "id": "ec84d5c4",
   "metadata": {},
   "outputs": [
    {
     "data": {
      "text/html": [
       "<div>\n",
       "<style scoped>\n",
       "    .dataframe tbody tr th:only-of-type {\n",
       "        vertical-align: middle;\n",
       "    }\n",
       "\n",
       "    .dataframe tbody tr th {\n",
       "        vertical-align: top;\n",
       "    }\n",
       "\n",
       "    .dataframe thead th {\n",
       "        text-align: right;\n",
       "    }\n",
       "</style>\n",
       "<table border=\"1\" class=\"dataframe\">\n",
       "  <thead>\n",
       "    <tr style=\"text-align: right;\">\n",
       "      <th></th>\n",
       "      <th>ARG</th>\n",
       "      <th>BRA</th>\n",
       "      <th>FRA</th>\n",
       "      <th>DEU</th>\n",
       "      <th>USA</th>\n",
       "    </tr>\n",
       "    <tr>\n",
       "      <th>Year</th>\n",
       "      <th></th>\n",
       "      <th></th>\n",
       "      <th></th>\n",
       "      <th></th>\n",
       "      <th></th>\n",
       "    </tr>\n",
       "  </thead>\n",
       "  <tbody>\n",
       "    <tr>\n",
       "      <th>1990</th>\n",
       "      <td>12.863715</td>\n",
       "      <td>70.458021</td>\n",
       "      <td>26.363945</td>\n",
       "      <td>32.366167</td>\n",
       "      <td>33.022308</td>\n",
       "    </tr>\n",
       "    <tr>\n",
       "      <th>1991</th>\n",
       "      <td>12.796992</td>\n",
       "      <td>70.005654</td>\n",
       "      <td>26.519543</td>\n",
       "      <td>32.381634</td>\n",
       "      <td>33.034165</td>\n",
       "    </tr>\n",
       "    <tr>\n",
       "      <th>1992</th>\n",
       "      <td>12.730269</td>\n",
       "      <td>69.553288</td>\n",
       "      <td>26.675141</td>\n",
       "      <td>32.397101</td>\n",
       "      <td>33.046023</td>\n",
       "    </tr>\n",
       "    <tr>\n",
       "      <th>1993</th>\n",
       "      <td>12.663546</td>\n",
       "      <td>69.100922</td>\n",
       "      <td>26.830738</td>\n",
       "      <td>32.413497</td>\n",
       "      <td>33.057880</td>\n",
       "    </tr>\n",
       "    <tr>\n",
       "      <th>1994</th>\n",
       "      <td>12.596823</td>\n",
       "      <td>68.648556</td>\n",
       "      <td>26.986336</td>\n",
       "      <td>32.429893</td>\n",
       "      <td>33.069737</td>\n",
       "    </tr>\n",
       "    <tr>\n",
       "      <th>1995</th>\n",
       "      <td>12.530100</td>\n",
       "      <td>68.196190</td>\n",
       "      <td>27.141934</td>\n",
       "      <td>32.446290</td>\n",
       "      <td>33.081594</td>\n",
       "    </tr>\n",
       "    <tr>\n",
       "      <th>1996</th>\n",
       "      <td>12.463377</td>\n",
       "      <td>67.743823</td>\n",
       "      <td>27.297531</td>\n",
       "      <td>32.462689</td>\n",
       "      <td>33.093452</td>\n",
       "    </tr>\n",
       "    <tr>\n",
       "      <th>1997</th>\n",
       "      <td>12.396654</td>\n",
       "      <td>67.291457</td>\n",
       "      <td>27.453129</td>\n",
       "      <td>32.481879</td>\n",
       "      <td>33.105309</td>\n",
       "    </tr>\n",
       "    <tr>\n",
       "      <th>1998</th>\n",
       "      <td>12.329931</td>\n",
       "      <td>66.839091</td>\n",
       "      <td>27.608727</td>\n",
       "      <td>32.500143</td>\n",
       "      <td>33.117166</td>\n",
       "    </tr>\n",
       "    <tr>\n",
       "      <th>1999</th>\n",
       "      <td>12.263208</td>\n",
       "      <td>66.386725</td>\n",
       "      <td>27.764324</td>\n",
       "      <td>32.519342</td>\n",
       "      <td>33.129023</td>\n",
       "    </tr>\n",
       "    <tr>\n",
       "      <th>2000</th>\n",
       "      <td>12.196486</td>\n",
       "      <td>65.934359</td>\n",
       "      <td>27.919871</td>\n",
       "      <td>32.537613</td>\n",
       "      <td>33.130174</td>\n",
       "    </tr>\n",
       "    <tr>\n",
       "      <th>2001</th>\n",
       "      <td>12.080871</td>\n",
       "      <td>65.461671</td>\n",
       "      <td>28.126421</td>\n",
       "      <td>32.558040</td>\n",
       "      <td>33.186756</td>\n",
       "    </tr>\n",
       "    <tr>\n",
       "      <th>2002</th>\n",
       "      <td>11.965257</td>\n",
       "      <td>64.988983</td>\n",
       "      <td>28.332971</td>\n",
       "      <td>32.577538</td>\n",
       "      <td>33.243338</td>\n",
       "    </tr>\n",
       "    <tr>\n",
       "      <th>2003</th>\n",
       "      <td>11.849643</td>\n",
       "      <td>64.516295</td>\n",
       "      <td>28.523894</td>\n",
       "      <td>32.597976</td>\n",
       "      <td>33.299920</td>\n",
       "    </tr>\n",
       "    <tr>\n",
       "      <th>2004</th>\n",
       "      <td>11.734029</td>\n",
       "      <td>64.043608</td>\n",
       "      <td>28.746071</td>\n",
       "      <td>32.617484</td>\n",
       "      <td>33.356502</td>\n",
       "    </tr>\n",
       "    <tr>\n",
       "      <th>2005</th>\n",
       "      <td>11.618415</td>\n",
       "      <td>63.570920</td>\n",
       "      <td>28.953150</td>\n",
       "      <td>32.634190</td>\n",
       "      <td>33.413084</td>\n",
       "    </tr>\n",
       "    <tr>\n",
       "      <th>2006</th>\n",
       "      <td>11.502801</td>\n",
       "      <td>63.098232</td>\n",
       "      <td>29.159704</td>\n",
       "      <td>32.653705</td>\n",
       "      <td>33.469666</td>\n",
       "    </tr>\n",
       "    <tr>\n",
       "      <th>2007</th>\n",
       "      <td>11.387187</td>\n",
       "      <td>62.625545</td>\n",
       "      <td>29.366258</td>\n",
       "      <td>32.674162</td>\n",
       "      <td>33.526248</td>\n",
       "    </tr>\n",
       "    <tr>\n",
       "      <th>2008</th>\n",
       "      <td>11.271573</td>\n",
       "      <td>62.152857</td>\n",
       "      <td>29.572812</td>\n",
       "      <td>32.693687</td>\n",
       "      <td>33.636064</td>\n",
       "    </tr>\n",
       "    <tr>\n",
       "      <th>2009</th>\n",
       "      <td>11.155958</td>\n",
       "      <td>61.680169</td>\n",
       "      <td>29.779365</td>\n",
       "      <td>32.711339</td>\n",
       "      <td>33.692735</td>\n",
       "    </tr>\n",
       "    <tr>\n",
       "      <th>2010</th>\n",
       "      <td>11.040344</td>\n",
       "      <td>61.207482</td>\n",
       "      <td>29.985919</td>\n",
       "      <td>32.730872</td>\n",
       "      <td>33.749407</td>\n",
       "    </tr>\n",
       "    <tr>\n",
       "      <th>2011</th>\n",
       "      <td>10.958713</td>\n",
       "      <td>61.023328</td>\n",
       "      <td>30.138232</td>\n",
       "      <td>32.737549</td>\n",
       "      <td>33.779470</td>\n",
       "    </tr>\n",
       "    <tr>\n",
       "      <th>2012</th>\n",
       "      <td>10.877081</td>\n",
       "      <td>60.839175</td>\n",
       "      <td>30.290545</td>\n",
       "      <td>32.745166</td>\n",
       "      <td>33.809533</td>\n",
       "    </tr>\n",
       "    <tr>\n",
       "      <th>2013</th>\n",
       "      <td>10.795450</td>\n",
       "      <td>60.655021</td>\n",
       "      <td>30.442858</td>\n",
       "      <td>32.718986</td>\n",
       "      <td>33.839596</td>\n",
       "    </tr>\n",
       "  </tbody>\n",
       "</table>\n",
       "</div>"
      ],
      "text/plain": [
       "            ARG        BRA        FRA        DEU        USA\n",
       "Year                                                       \n",
       "1990  12.863715  70.458021  26.363945  32.366167  33.022308\n",
       "1991  12.796992  70.005654  26.519543  32.381634  33.034165\n",
       "1992  12.730269  69.553288  26.675141  32.397101  33.046023\n",
       "1993  12.663546  69.100922  26.830738  32.413497  33.057880\n",
       "1994  12.596823  68.648556  26.986336  32.429893  33.069737\n",
       "1995  12.530100  68.196190  27.141934  32.446290  33.081594\n",
       "1996  12.463377  67.743823  27.297531  32.462689  33.093452\n",
       "1997  12.396654  67.291457  27.453129  32.481879  33.105309\n",
       "1998  12.329931  66.839091  27.608727  32.500143  33.117166\n",
       "1999  12.263208  66.386725  27.764324  32.519342  33.129023\n",
       "2000  12.196486  65.934359  27.919871  32.537613  33.130174\n",
       "2001  12.080871  65.461671  28.126421  32.558040  33.186756\n",
       "2002  11.965257  64.988983  28.332971  32.577538  33.243338\n",
       "2003  11.849643  64.516295  28.523894  32.597976  33.299920\n",
       "2004  11.734029  64.043608  28.746071  32.617484  33.356502\n",
       "2005  11.618415  63.570920  28.953150  32.634190  33.413084\n",
       "2006  11.502801  63.098232  29.159704  32.653705  33.469666\n",
       "2007  11.387187  62.625545  29.366258  32.674162  33.526248\n",
       "2008  11.271573  62.152857  29.572812  32.693687  33.636064\n",
       "2009  11.155958  61.680169  29.779365  32.711339  33.692735\n",
       "2010  11.040344  61.207482  29.985919  32.730872  33.749407\n",
       "2011  10.958713  61.023328  30.138232  32.737549  33.779470\n",
       "2012  10.877081  60.839175  30.290545  32.745166  33.809533\n",
       "2013  10.795450  60.655021  30.442858  32.718986  33.839596"
      ]
     },
     "execution_count": 157,
     "metadata": {},
     "output_type": "execute_result"
    }
   ],
   "source": [
    "forest_table"
   ]
  },
  {
   "cell_type": "code",
   "execution_count": null,
   "id": "734aa73b",
   "metadata": {},
   "outputs": [],
   "source": [
    "\"\"\"converting cereal values in floats so can be changed when plottin\"\"\"\n",
    "for code in selected_codes:\n",
    "    cereal_table[code] = pd.to_numeric(cereal_table[code])"
   ]
  },
  {
   "cell_type": "code",
   "execution_count": null,
   "id": "baeabe8a",
   "metadata": {},
   "outputs": [],
   "source": [
    "for code in selected_codes:\n",
    "    forest_table[code] = pd.to_numeric(forest_table[code])"
   ]
  },
  {
   "cell_type": "code",
   "execution_count": null,
   "id": "8639ce2f",
   "metadata": {},
   "outputs": [],
   "source": [
    "\"\"\"checking dtypes\"\"\"\n",
    "forest_table.dtypes"
   ]
  },
  {
   "cell_type": "code",
   "execution_count": null,
   "id": "d36ac38c",
   "metadata": {},
   "outputs": [],
   "source": [
    "a = forest_table.index\n",
    "b = forest_table['ARG']\n",
    "c = forest_table['BRA']\n",
    "d = forest_table['FRA']\n",
    "e = forest_table['DEU']\n",
    "f = forest_table['USA']\n",
    "g = cereal_table['ARG']\n",
    "h = cereal_table['BRA']\n",
    "i = cereal_table['FRA']\n",
    "j = cereal_table['DEU']\n",
    "k = cereal_table['USA']"
   ]
  },
  {
   "cell_type": "code",
   "execution_count": null,
   "id": "6497026b",
   "metadata": {},
   "outputs": [],
   "source": [
    "forest_table.index"
   ]
  },
  {
   "cell_type": "code",
   "execution_count": 159,
   "id": "0d3d1eb5",
   "metadata": {},
   "outputs": [
    {
     "data": {
      "image/png": "[encoded data removed]",
      "text/plain": [
       "<Figure size 640x480 with 1 Axes>"
      ]
     },
     "metadata": {},
     "output_type": "display_data"
    }
   ],
   "source": [
    "plt.plot(a, g, color='lightblue', label='ARG')\n",
    "plt.plot(a, h, color='green', label='BRA')\n",
    "plt.plot(a, i, color='red', label='FRA')\n",
    "plt.plot(a, j, color='black', label='GER')\n",
    "plt.plot(a, k, color='blue', label='USA')\n",
    "\n",
    "plt.title(' Cereal Production')\n",
    "plt.ylabel('Cereal Production (metric tons)')\n",
    "plt.xlabel('Year')\n",
    "plt.legend()\n",
    "plt.show()"
   ]
  },
  {
   "cell_type": "code",
   "execution_count": 160,
   "id": "9dac7b8f",
   "metadata": {},
   "outputs": [
    {
     "data": {
      "image/png": "[encoded data removed]",
      "text/plain": [
       "<Figure size 640x480 with 1 Axes>"
      ]
     },
     "metadata": {},
     "output_type": "display_data"
    }
   ],
   "source": [
    "plt.plot(a, b, color='lightblue', label='ARG')\n",
    "plt.plot(a, c, color='green', label='BRA')\n",
    "plt.plot(a, d, color='red', label='FRA')\n",
    "plt.plot(a, e, color='black', label='GER')\n",
    "plt.plot(a, f, color='blue', label='USA')\n",
    "\n",
    "plt.title('Forest Area')\n",
    "plt.ylabel('Forest Area (% of land)')\n",
    "plt.xlabel('Year')\n",
    "plt.legend(loc='upper left')\n",
    "plt.show()\n"
   ]
  },
  {
   "cell_type": "code",
   "execution_count": 161,
   "id": "533150dd",
   "metadata": {},
   "outputs": [
    {
     "data": {
      "image/png": "[encoded data removed]",
      "text/plain": [
       "<Figure size 640x480 with 1 Axes>"
      ]
     },
     "metadata": {},
     "output_type": "display_data"
    }
   ],
   "source": [
    "plt.scatter(g, b, color='lightblue', label='ARG')\n",
    "plt.scatter(h, c, color='green', label='BRA')\n",
    "\n",
    "plt.title('Forest Area x Cereal Production \\ Developping Countries')\n",
    "plt.xlabel('Cereal Production (metric tons)')\n",
    "plt.ylabel('Forest Area (% of land)')\n",
    "plt.legend(loc='lower right')\n",
    "plt.show()"
   ]
  },
  {
   "cell_type": "code",
   "execution_count": 162,
   "id": "5b777406",
   "metadata": {},
   "outputs": [
    {
     "data": {
      "image/png": "[encoded data removed]",
      "text/plain": [
       "<Figure size 640x480 with 1 Axes>"
      ]
     },
     "metadata": {},
     "output_type": "display_data"
    }
   ],
   "source": [
    "plt.scatter(i, d, color='red', label='FRA')\n",
    "plt.scatter(j, e, color='black', label='GER')\n",
    "plt.scatter(k, f, color='blue', label='USA')\n",
    "\n",
    "\n",
    "plt.title('Forest Area x Cereal Production \\ Developped Countries')\n",
    "plt.xlabel('Cereal Production (metric tons)')\n",
    "plt.ylabel('Forest Area (% of land)')\n",
    "plt.legend()\n",
    "plt.show()"
   ]
  },
  {
   "cell_type": "code",
   "execution_count": 163,
   "id": "673a6c7e",
   "metadata": {},
   "outputs": [],
   "source": [
    "arg_corr = forest_table['ARG'].corr(cereal_table['ARG'])\n",
    "bra_corr = forest_table['BRA'].corr(cereal_table['BRA'])\n",
    "fra_corr = forest_table['FRA'].corr(cereal_table['FRA'])\n",
    "deu_corr = forest_table['DEU'].corr(cereal_table['DEU'])\n",
    "usa_corr = forest_table['USA'].corr(cereal_table['USA'])"
   ]
  },
  {
   "cell_type": "code",
   "execution_count": 164,
   "id": "71d3b26b",
   "metadata": {},
   "outputs": [
    {
     "name": "stdout",
     "output_type": "stream",
     "text": [
      "-0.7977783651408344\n",
      "-0.9100221397618794\n",
      "0.604173345219267\n",
      "0.6343936365969526\n",
      "0.762233936863473\n"
     ]
    }
   ],
   "source": [
    "print(arg_corr, bra_corr, fra_corr, deu_corr, usa_corr, sep='\\n')"
   ]
  },
  {
   "cell_type": "code",
   "execution_count": null,
   "id": "c8d26fa0",
   "metadata": {},
   "outputs": [],
   "source": []
  }
 ],
 "metadata": {
  "kernelspec": {
   "display_name": "Python 3 (ipykernel)",
   "language": "python",
   "name": "python3"
  },
  "language_info": {
   "codemirror_mode": {
    "name": "ipython",
    "version": 3
   },
   "file_extension": ".py",
   "mimetype": "text/x-python",
   "name": "python",
   "nbconvert_exporter": "python",
   "pygments_lexer": "ipython3",
   "version": "3.9.13"
  }
 },
 "nbformat": 4,
 "nbformat_minor": 5
}
